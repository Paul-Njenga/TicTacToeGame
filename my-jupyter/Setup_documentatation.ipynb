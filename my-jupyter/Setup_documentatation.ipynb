{
 "cells": [
  {
   "cell_type": "markdown",
   "id": "d8152f07-1856-4c14-aeb4-fe5a23b1d377",
   "metadata": {},
   "source": [
    "#  My Development Environment Setup Documentation\n",
    "Here is my journey on how i set up my Coding environment."
   ]
  },
  {
   "cell_type": "markdown",
   "id": "8517b5ed-a39b-4fb9-b2e7-56c05f1f4dde",
   "metadata": {},
   "source": [
    "## Operating System\n",
    "I use an ubuntu 22.04 latest release"
   ]
  },
  {
   "attachments": {},
   "cell_type": "markdown",
   "id": "b10a243a-d84a-419b-9572-c02f28769908",
   "metadata": {},
   "source": [
    "## My Visual Studio Installation.(latest edition)\n",
    "I installed using the following commands\n",
    "\n",
    "    sudo apt update\n",
    "    sudo apt install software-properties-common apt-transport-https wget\n",
    "    wget -q https://packages.microsoft.com/keys/microsoft.asc -O- | sudo apt-key add -\n",
    "    sudo add-apt-repository \"deb [arch=amd64] https://packages.microsoft.com/repos/vscode stable main\"\n",
    "    sudo apt update\n",
    "    sudo apt install code\n"
   ]
  },
  {
   "cell_type": "markdown",
   "id": "d98f1755-b0ad-44ec-bdd9-cf90cdcbb7cd",
   "metadata": {},
   "source": [
    "## Version Control System\n",
    "I have installed and configured Git\n",
    "I have created GitHub account and even synched it with my Visual Studio Code.\n"
   ]
  },
  {
   "cell_type": "markdown",
   "id": "0a8f39ab-1924-4738-ba68-88cf3a3a5094",
   "metadata": {},
   "source": [
    "## commands to install Git into my PC\n",
    "    sudo apt iupate\n",
    "    sudo apt install git"
   ]
  },
  {
   "cell_type": "markdown",
   "id": "5c0f0928-8d0a-41f6-ab9e-ff7ca9b10568",
   "metadata": {},
   "source": [
    "## commands to configure my Github account to my PC.\n",
    "    git config --global user.name \"Your Name\"\n",
    "    git config --global user.email \"youremail@example.com\""
   ]
  },
  {
   "cell_type": "markdown",
   "id": "a1385113-2474-4e57-adc6-2e342145b89c",
   "metadata": {},
   "source": [
    "## commands to initiate a repo from my terminal and commit  to it.\n",
    "\n",
    "    mkdir myproject\n",
    "    cd myproject\n",
    "    git init\n",
    "    touch README.md\n",
    "    git add README.md\n",
    "    git commit -m \"initial commit\""
   ]
  },
  {
   "cell_type": "markdown",
   "id": "e2e51213-8a75-47f1-88be-5fbd67fde55b",
   "metadata": {},
   "source": [
    "## Programming Languages and Runtimes\n",
    "I have installed Python 3\n",
    "I have installed HTML and CSS \n",
    "I have installed extensions on VSC that support C and C++\n",
    "I have installed JUpyter notebooks, jupyter labs."
   ]
  },
  {
   "cell_type": "markdown",
   "id": "afe7bf56-a0d4-4f2f-922d-002e8bd53c95",
   "metadata": {},
   "source": [
    "## Package Managers\n",
    "I have installed pip\n",
    "I have installed snap"
   ]
  },
  {
   "cell_type": "markdown",
   "id": "64853245-b603-4667-ab25-97e9d6787376",
   "metadata": {},
   "source": [
    "## Database\n",
    "I have installed MySQL\n",
    "I have securely installed and created a database"
   ]
  },
  {
   "cell_type": "markdown",
   "id": "09a0a4e6-03ba-46f9-a29f-129c93d11d8d",
   "metadata": {},
   "source": [
    "## Development Environments and Virtualization\n",
    "I have not installed Docke yet. I might install it in ffuture if need arises."
   ]
  },
  {
   "cell_type": "markdown",
   "id": "4acfe162-bc1c-4f33-87e3-2aa15b232725",
   "metadata": {},
   "source": [
    "## Extensions and Plugins\n",
    "- Installed extensions for Visual Studio Code:\n",
    "  - Python\n",
    "  - GitLens"
   ]
  },
  {
   "cell_type": "markdown",
   "id": "d87f0ed0-3997-41d6-b757-e828a76411b8",
   "metadata": {},
   "source": [
    "## Challenges and Solutions\n",
    "The installation process was smooth. However any problemms encountered were easily fixed from the documentatation."
   ]
  }
 ],
 "metadata": {
  "kernelspec": {
   "display_name": "Python 3 (ipykernel)",
   "language": "python",
   "name": "python3"
  },
  "language_info": {
   "codemirror_mode": {
    "name": "ipython",
    "version": 3
   },
   "file_extension": ".py",
   "mimetype": "text/x-python",
   "name": "python",
   "nbconvert_exporter": "python",
   "pygments_lexer": "ipython3",
   "version": "3.10.12"
  }
 },
 "nbformat": 4,
 "nbformat_minor": 5
}
